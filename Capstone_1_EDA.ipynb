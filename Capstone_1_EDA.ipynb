{
 "cells": [
  {
   "cell_type": "markdown",
   "metadata": {},
   "source": [
    "### DateTime Intervals, Aggregates ... "
   ]
  },
  {
   "cell_type": "code",
   "execution_count": 2,
   "metadata": {},
   "outputs": [],
   "source": [
    "# import Pandas version > 1.10.  locally: use base(python 3.9.12)\n",
    "import pandas as pd \n",
    "pd.set_option('expand_frame_repr', False)\n",
    "# pd.set_option('display.max_columns', 0) # Display any number of columns\n",
    "# pd.set_option('display.max_rows', 0) # Display any number of rows\n",
    "# set max columns to display\n",
    "pd.set_option('display.max_columns', 50)"
   ]
  },
  {
   "cell_type": "code",
   "execution_count": 3,
   "metadata": {},
   "outputs": [],
   "source": [
    "# importing data  \"C:\\\\August2022\\\\ES 12-22 Globex_2022_09_21.csv\"\n",
    "initial_data = pd.read_csv(\"C:\\\\August2022\\\\ES 12-22 Globex_2022_09_21.csv\", parse_dates=['DateTime'])"
   ]
  },
  {
   "cell_type": "code",
   "execution_count": 4,
   "metadata": {},
   "outputs": [
    {
     "data": {
      "text/html": [
       "<div>\n",
       "<style scoped>\n",
       "    .dataframe tbody tr th:only-of-type {\n",
       "        vertical-align: middle;\n",
       "    }\n",
       "\n",
       "    .dataframe tbody tr th {\n",
       "        vertical-align: top;\n",
       "    }\n",
       "\n",
       "    .dataframe thead th {\n",
       "        text-align: right;\n",
       "    }\n",
       "</style>\n",
       "<table border=\"1\" class=\"dataframe\">\n",
       "  <thead>\n",
       "    <tr style=\"text-align: right;\">\n",
       "      <th></th>\n",
       "      <th>DateTime</th>\n",
       "      <th>Vol</th>\n",
       "      <th>BidAsk</th>\n",
       "      <th>Bid</th>\n",
       "      <th>Ask</th>\n",
       "      <th>Price</th>\n",
       "    </tr>\n",
       "  </thead>\n",
       "  <tbody>\n",
       "    <tr>\n",
       "      <th>0</th>\n",
       "      <td>2022-09-21 00:00:00:720</td>\n",
       "      <td>1</td>\n",
       "      <td>AtBid</td>\n",
       "      <td>3879.50</td>\n",
       "      <td>3879.75</td>\n",
       "      <td>3879.50</td>\n",
       "    </tr>\n",
       "    <tr>\n",
       "      <th>1</th>\n",
       "      <td>2022-09-21 00:00:00:720</td>\n",
       "      <td>1</td>\n",
       "      <td>AtBid</td>\n",
       "      <td>3879.50</td>\n",
       "      <td>3879.75</td>\n",
       "      <td>3879.50</td>\n",
       "    </tr>\n",
       "    <tr>\n",
       "      <th>2</th>\n",
       "      <td>2022-09-21 00:00:00:900</td>\n",
       "      <td>1</td>\n",
       "      <td>AtAsk</td>\n",
       "      <td>3879.25</td>\n",
       "      <td>3879.75</td>\n",
       "      <td>3879.75</td>\n",
       "    </tr>\n",
       "    <tr>\n",
       "      <th>3</th>\n",
       "      <td>2022-09-21 00:00:00:900</td>\n",
       "      <td>1</td>\n",
       "      <td>AtAsk</td>\n",
       "      <td>3879.25</td>\n",
       "      <td>3879.75</td>\n",
       "      <td>3879.75</td>\n",
       "    </tr>\n",
       "    <tr>\n",
       "      <th>4</th>\n",
       "      <td>2022-09-21 00:00:00:900</td>\n",
       "      <td>1</td>\n",
       "      <td>AtAsk</td>\n",
       "      <td>3879.25</td>\n",
       "      <td>3879.75</td>\n",
       "      <td>3879.75</td>\n",
       "    </tr>\n",
       "  </tbody>\n",
       "</table>\n",
       "</div>"
      ],
      "text/plain": [
       "                  DateTime  Vol  BidAsk      Bid      Ask   Price \n",
       "0  2022-09-21 00:00:00:720    1   AtBid  3879.50  3879.75  3879.50\n",
       "1  2022-09-21 00:00:00:720    1   AtBid  3879.50  3879.75  3879.50\n",
       "2  2022-09-21 00:00:00:900    1   AtAsk  3879.25  3879.75  3879.75\n",
       "3  2022-09-21 00:00:00:900    1   AtAsk  3879.25  3879.75  3879.75\n",
       "4  2022-09-21 00:00:00:900    1   AtAsk  3879.25  3879.75  3879.75"
      ]
     },
     "execution_count": 4,
     "metadata": {},
     "output_type": "execute_result"
    }
   ],
   "source": [
    "initial_data.head()"
   ]
  },
  {
   "cell_type": "code",
   "execution_count": null,
   "metadata": {},
   "outputs": [],
   "source": [
    "initial_data.shape # (1742042, 6)"
   ]
  },
  {
   "cell_type": "code",
   "execution_count": 12,
   "metadata": {},
   "outputs": [
    {
     "data": {
      "text/plain": [
       "array(['AtBid', 'AtAsk', 'BelowBid', 'AboveAsk', 'BetweenBidAsk'],\n",
       "      dtype=object)"
      ]
     },
     "execution_count": 12,
     "metadata": {},
     "output_type": "execute_result"
    }
   ],
   "source": [
    "initial_data[' BidAsk'].unique()"
   ]
  },
  {
   "cell_type": "code",
   "execution_count": 8,
   "metadata": {},
   "outputs": [
    {
     "data": {
      "text/html": [
       "<div>\n",
       "<style scoped>\n",
       "    .dataframe tbody tr th:only-of-type {\n",
       "        vertical-align: middle;\n",
       "    }\n",
       "\n",
       "    .dataframe tbody tr th {\n",
       "        vertical-align: top;\n",
       "    }\n",
       "\n",
       "    .dataframe thead th {\n",
       "        text-align: right;\n",
       "    }\n",
       "</style>\n",
       "<table border=\"1\" class=\"dataframe\">\n",
       "  <thead>\n",
       "    <tr style=\"text-align: right;\">\n",
       "      <th></th>\n",
       "      <th>DateTime</th>\n",
       "      <th>Vol</th>\n",
       "      <th>BidAsk</th>\n",
       "      <th>Bid</th>\n",
       "      <th>Ask</th>\n",
       "      <th>Price</th>\n",
       "    </tr>\n",
       "  </thead>\n",
       "  <tbody>\n",
       "    <tr>\n",
       "      <th>0</th>\n",
       "      <td>2022-09-21 00:00:00:720</td>\n",
       "      <td>1</td>\n",
       "      <td>AtBid</td>\n",
       "      <td>3879.50</td>\n",
       "      <td>3879.75</td>\n",
       "      <td>3879.50</td>\n",
       "    </tr>\n",
       "    <tr>\n",
       "      <th>1</th>\n",
       "      <td>2022-09-21 00:00:00:720</td>\n",
       "      <td>1</td>\n",
       "      <td>AtBid</td>\n",
       "      <td>3879.50</td>\n",
       "      <td>3879.75</td>\n",
       "      <td>3879.50</td>\n",
       "    </tr>\n",
       "    <tr>\n",
       "      <th>2</th>\n",
       "      <td>2022-09-21 00:00:00:900</td>\n",
       "      <td>1</td>\n",
       "      <td>AtAsk</td>\n",
       "      <td>3879.25</td>\n",
       "      <td>3879.75</td>\n",
       "      <td>3879.75</td>\n",
       "    </tr>\n",
       "  </tbody>\n",
       "</table>\n",
       "</div>"
      ],
      "text/plain": [
       "                  DateTime  Vol  BidAsk      Bid      Ask   Price \n",
       "0  2022-09-21 00:00:00:720    1   AtBid  3879.50  3879.75  3879.50\n",
       "1  2022-09-21 00:00:00:720    1   AtBid  3879.50  3879.75  3879.50\n",
       "2  2022-09-21 00:00:00:900    1   AtAsk  3879.25  3879.75  3879.75"
      ]
     },
     "execution_count": 8,
     "metadata": {},
     "output_type": "execute_result"
    }
   ],
   "source": [
    "map_BA = {'AtBid': -1, 'BelowBid': -2, 'AtAsk':1, 'AboveAsk': 2, 'BetweenBidAsk': 0}\n",
    "initial_data[' BidAsk']\n",
    "initial_data.head(3)"
   ]
  },
  {
   "cell_type": "code",
   "execution_count": 5,
   "metadata": {},
   "outputs": [
    {
     "data": {
      "text/html": [
       "<div>\n",
       "<style scoped>\n",
       "    .dataframe tbody tr th:only-of-type {\n",
       "        vertical-align: middle;\n",
       "    }\n",
       "\n",
       "    .dataframe tbody tr th {\n",
       "        vertical-align: top;\n",
       "    }\n",
       "\n",
       "    .dataframe thead th {\n",
       "        text-align: right;\n",
       "    }\n",
       "</style>\n",
       "<table border=\"1\" class=\"dataframe\">\n",
       "  <thead>\n",
       "    <tr style=\"text-align: right;\">\n",
       "      <th></th>\n",
       "      <th>item_name</th>\n",
       "      <th>item_code</th>\n",
       "      <th>created_at</th>\n",
       "      <th>size</th>\n",
       "      <th>quantity</th>\n",
       "      <th>price</th>\n",
       "      <th>store_type</th>\n",
       "    </tr>\n",
       "  </thead>\n",
       "  <tbody>\n",
       "    <tr>\n",
       "      <th>4778</th>\n",
       "      <td>Energy saving light bulb, 15W, WKB</td>\n",
       "      <td>110552103</td>\n",
       "      <td>2016-05-08 19:37:44.934</td>\n",
       "      <td>1.0</td>\n",
       "      <td>1</td>\n",
       "      <td>60.0</td>\n",
       "      <td>small_medium_shop</td>\n",
       "    </tr>\n",
       "    <tr>\n",
       "      <th>22362</th>\n",
       "      <td>Men's haircut, barber shop</td>\n",
       "      <td>111211101</td>\n",
       "      <td>2016-05-30 13:35:19.022</td>\n",
       "      <td>1.0</td>\n",
       "      <td>1</td>\n",
       "      <td>180.0</td>\n",
       "      <td>private_service_provider</td>\n",
       "    </tr>\n",
       "    <tr>\n",
       "      <th>12607</th>\n",
       "      <td>Pizza marguerite, at restaurant</td>\n",
       "      <td>111111105</td>\n",
       "      <td>2016-06-30 15:36:16.572</td>\n",
       "      <td>1.0</td>\n",
       "      <td>1</td>\n",
       "      <td>60.0</td>\n",
       "      <td>private_service_provider</td>\n",
       "    </tr>\n",
       "    <tr>\n",
       "      <th>21008</th>\n",
       "      <td>Football (soccer ball), WKB</td>\n",
       "      <td>110931110</td>\n",
       "      <td>2016-02-22 14:21:26.276</td>\n",
       "      <td>1.0</td>\n",
       "      <td>1</td>\n",
       "      <td>199.0</td>\n",
       "      <td>small_medium_shop</td>\n",
       "    </tr>\n",
       "    <tr>\n",
       "      <th>29297</th>\n",
       "      <td>Men's lace-up shoes, WKB-L</td>\n",
       "      <td>110321101</td>\n",
       "      <td>2016-04-11 00:17:49.661</td>\n",
       "      <td>1.0</td>\n",
       "      <td>1</td>\n",
       "      <td>3350.0</td>\n",
       "      <td>small_medium_shop</td>\n",
       "    </tr>\n",
       "  </tbody>\n",
       "</table>\n",
       "</div>"
      ],
      "text/plain": [
       "                                item_name  item_code              created_at  size  quantity   price                store_type\n",
       "4778   Energy saving light bulb, 15W, WKB  110552103 2016-05-08 19:37:44.934   1.0         1    60.0         small_medium_shop\n",
       "22362          Men's haircut, barber shop  111211101 2016-05-30 13:35:19.022   1.0         1   180.0  private_service_provider\n",
       "12607     Pizza marguerite, at restaurant  111111105 2016-06-30 15:36:16.572   1.0         1    60.0  private_service_provider\n",
       "21008         Football (soccer ball), WKB  110931110 2016-02-22 14:21:26.276   1.0         1   199.0         small_medium_shop\n",
       "29297          Men's lace-up shoes, WKB-L  110321101 2016-04-11 00:17:49.661   1.0         1  3350.0         small_medium_shop"
      ]
     },
     "execution_count": 5,
     "metadata": {},
     "output_type": "execute_result"
    }
   ],
   "source": [
    "#  select few columns \n",
    "columns_to_select = ['item_name', 'item_code', 'created_at', 'size', 'quantity', 'price', 'store_type']\n",
    "data = initial_data[columns_to_select]\n",
    "data.sample(5)   # sample rows"
   ]
  },
  {
   "cell_type": "markdown",
   "metadata": {},
   "source": [
    "## Aggregating data based on Intervals  Hour, Month, Offset...    \n",
    "- Combining data based on different Time Intervals."
   ]
  },
  {
   "cell_type": "code",
   "execution_count": 6,
   "metadata": {},
   "outputs": [
    {
     "data": {
      "text/plain": [
       "created_at\n",
       "2015-12-14 18:00:00    5449.90\n",
       "2015-12-14 19:00:00      15.98\n",
       "2015-12-14 20:00:00      66.98\n",
       "2015-12-14 21:00:00       0.00\n",
       "2015-12-14 22:00:00       0.00\n",
       "Freq: H, Name: price, dtype: float64"
      ]
     },
     "execution_count": 6,
     "metadata": {},
     "output_type": "execute_result"
    }
   ],
   "source": [
    "# Amount added in each hour \n",
    "data.resample('H', on='created_at').price.sum().head(5)"
   ]
  },
  {
   "cell_type": "code",
   "execution_count": 7,
   "metadata": {},
   "outputs": [
    {
     "data": {
      "text/plain": [
       "created_at\n",
       "2015-12-14 17:45:00    5449.90\n",
       "2015-12-14 18:45:00       0.00\n",
       "2015-12-14 19:45:00      74.76\n",
       "2015-12-14 20:45:00       8.20\n",
       "2015-12-14 21:45:00       0.00\n",
       "Freq: H, Name: price, dtype: float64"
      ]
     },
     "execution_count": 7,
     "metadata": {},
     "output_type": "execute_result"
    }
   ],
   "source": [
    "# Changing start time for each hour, by default start time is at 0th minute\n",
    "# data.resample('H', on='created_at', offset='15Min10s').price.sum().head(5) \n",
    "data.resample('H', on='created_at', offset='-15Min0s').price.sum().head(5)  #  offset can be negative  offset='-15Min10s'"
   ]
  },
  {
   "cell_type": "code",
   "execution_count": 8,
   "metadata": {},
   "outputs": [
    {
     "data": {
      "text/plain": [
       "created_at\n",
       "2015-12-20     43056.38\n",
       "2015-12-27     67338.51\n",
       "2016-01-03     44434.59\n",
       "2016-01-10     18222.36\n",
       "2016-01-17    190838.54\n",
       "Freq: W-SUN, Name: price, dtype: float64"
      ]
     },
     "execution_count": 8,
     "metadata": {},
     "output_type": "execute_result"
    }
   ],
   "source": [
    "# total amount added each week\n",
    "data.resample('W', on='created_at').price.sum().head(5)"
   ]
  },
  {
   "cell_type": "code",
   "execution_count": 9,
   "metadata": {},
   "outputs": [
    {
     "data": {
      "text/plain": [
       "created_at\n",
       "2015-12-14     5532.86\n",
       "2015-12-21    38507.62\n",
       "2015-12-28    66863.29\n",
       "2016-01-04    53924.10\n",
       "2016-01-11    12608.69\n",
       "Freq: W-MON, Name: price, dtype: float64"
      ]
     },
     "execution_count": 9,
     "metadata": {},
     "output_type": "execute_result"
    }
   ],
   "source": [
    "# By default, week starts with Sunday. Let's change it to start with Monday\n",
    "data.resample('W-MON', on='created_at').price.sum().head(5)"
   ]
  },
  {
   "cell_type": "code",
   "execution_count": 10,
   "metadata": {},
   "outputs": [
    {
     "data": {
      "text/plain": [
       "created_at\n",
       "2015-12-31    1.538769e+05\n",
       "2016-01-31    4.297143e+05\n",
       "2016-02-29    9.352684e+05\n",
       "2016-03-31    7.425185e+06\n",
       "2016-04-30    1.384351e+07\n",
       "2016-05-31    1.253785e+07\n",
       "2016-06-30    7.264586e+06\n",
       "2016-07-31    6.739416e+06\n",
       "2016-08-31    2.721504e+06\n",
       "Freq: M, Name: price, dtype: float64"
      ]
     },
     "execution_count": 10,
     "metadata": {},
     "output_type": "execute_result"
    }
   ],
   "source": [
    "data.resample('M', on='created_at').price.sum()"
   ]
  },
  {
   "cell_type": "code",
   "execution_count": 11,
   "metadata": {},
   "outputs": [
    {
     "data": {
      "text/plain": [
       "created_at\n",
       "2015-12-01    1.538769e+05\n",
       "2016-01-01    4.297143e+05\n",
       "2016-02-01    9.352684e+05\n",
       "2016-03-01    7.425185e+06\n",
       "2016-04-01    1.384351e+07\n",
       "2016-05-01    1.253785e+07\n",
       "2016-06-01    7.264586e+06\n",
       "2016-07-01    6.739416e+06\n",
       "2016-08-01    2.721504e+06\n",
       "Freq: MS, Name: price, dtype: float64"
      ]
     },
     "execution_count": 11,
     "metadata": {},
     "output_type": "execute_result"
    }
   ],
   "source": [
    "# by default month labels are assigned to the last day of month, lets change it to start of the day using \"MS\"\n",
    "data.resample('MS', on='created_at', label='left').price.sum()"
   ]
  },
  {
   "cell_type": "code",
   "execution_count": 13,
   "metadata": {},
   "outputs": [
    {
     "data": {
      "text/html": [
       "<div>\n",
       "<style scoped>\n",
       "    .dataframe tbody tr th:only-of-type {\n",
       "        vertical-align: middle;\n",
       "    }\n",
       "\n",
       "    .dataframe tbody tr th {\n",
       "        vertical-align: top;\n",
       "    }\n",
       "\n",
       "    .dataframe thead th {\n",
       "        text-align: right;\n",
       "    }\n",
       "</style>\n",
       "<table border=\"1\" class=\"dataframe\">\n",
       "  <thead>\n",
       "    <tr style=\"text-align: right;\">\n",
       "      <th></th>\n",
       "      <th>price</th>\n",
       "      <th>quantity</th>\n",
       "      <th>item_code</th>\n",
       "    </tr>\n",
       "    <tr>\n",
       "      <th>created_at</th>\n",
       "      <th></th>\n",
       "      <th></th>\n",
       "      <th></th>\n",
       "    </tr>\n",
       "  </thead>\n",
       "  <tbody>\n",
       "    <tr>\n",
       "      <th>2015-12-14 18:00:00</th>\n",
       "      <td>5449.90</td>\n",
       "      <td>3</td>\n",
       "      <td>3</td>\n",
       "    </tr>\n",
       "    <tr>\n",
       "      <th>2015-12-14 19:00:00</th>\n",
       "      <td>15.98</td>\n",
       "      <td>2</td>\n",
       "      <td>2</td>\n",
       "    </tr>\n",
       "    <tr>\n",
       "      <th>2015-12-14 20:00:00</th>\n",
       "      <td>66.98</td>\n",
       "      <td>7</td>\n",
       "      <td>4</td>\n",
       "    </tr>\n",
       "    <tr>\n",
       "      <th>2015-12-14 21:00:00</th>\n",
       "      <td>0.00</td>\n",
       "      <td>0</td>\n",
       "      <td>0</td>\n",
       "    </tr>\n",
       "    <tr>\n",
       "      <th>2015-12-14 22:00:00</th>\n",
       "      <td>0.00</td>\n",
       "      <td>0</td>\n",
       "      <td>0</td>\n",
       "    </tr>\n",
       "  </tbody>\n",
       "</table>\n",
       "</div>"
      ],
      "text/plain": [
       "                       price  quantity  item_code\n",
       "created_at                                       \n",
       "2015-12-14 18:00:00  5449.90         3          3\n",
       "2015-12-14 19:00:00    15.98         2          2\n",
       "2015-12-14 20:00:00    66.98         7          4\n",
       "2015-12-14 21:00:00     0.00         0          0\n",
       "2015-12-14 22:00:00     0.00         0          0"
      ]
     },
     "execution_count": 13,
     "metadata": {},
     "output_type": "execute_result"
    }
   ],
   "source": [
    "data.resample('H', on='created_at').agg({'price':'sum', 'quantity':'sum','item_code':'nunique'}).head(5)"
   ]
  },
  {
   "cell_type": "code",
   "execution_count": 18,
   "metadata": {},
   "outputs": [
    {
     "data": {
      "text/plain": [
       "created_at  store_type                \n",
       "2015-12-20  other                         34300.00\n",
       "            public_semi_public_service      833.90\n",
       "            small_medium_shop              1206.04\n",
       "2015-12-27  small_medium_shop               923.09\n",
       "            specialized_shop              65164.00\n",
       "2016-01-03  small_medium_shop               355.10\n",
       "            specialized_shop              41922.00\n",
       "2016-01-10  other                          8300.00\n",
       "            small_medium_shop               412.55\n",
       "            specialized_shop               3979.00\n",
       "Name: price, dtype: float64"
      ]
     },
     "execution_count": 18,
     "metadata": {},
     "output_type": "execute_result"
    }
   ],
   "source": [
    "data.groupby([pd.Grouper(key='created_at', freq='W'), 'store_type']).price.sum().head(10)"
   ]
  },
  {
   "cell_type": "code",
   "execution_count": 17,
   "metadata": {},
   "outputs": [
    {
     "data": {
      "text/plain": [
       "created_at           store_type                \n",
       "2015-12-14 19:00:00  small_medium_shop                10.09\n",
       "2015-12-14 20:00:00  small_medium_shop                48.58\n",
       "2015-12-15 16:00:00  small_medium_shop               114.80\n",
       "2015-12-15 19:00:00  small_medium_shop                62.72\n",
       "2015-12-16 00:00:00  public_semi_public_service      833.90\n",
       "2015-12-16 13:00:00  small_medium_shop                32.90\n",
       "2015-12-16 14:00:00  small_medium_shop                37.90\n",
       "2015-12-16 20:00:00  other                          7500.00\n",
       "2015-12-16 21:00:00  other                         26800.00\n",
       "2015-12-17 18:00:00  small_medium_shop               308.95\n",
       "Name: price, dtype: float64"
      ]
     },
     "execution_count": 17,
     "metadata": {},
     "output_type": "execute_result"
    }
   ],
   "source": [
    "data.groupby([pd.Grouper(key='created_at', freq='H'), 'store_type']).price.sum().head(10)"
   ]
  },
  {
   "cell_type": "code",
   "execution_count": 19,
   "metadata": {},
   "outputs": [
    {
     "data": {
      "text/plain": [
       "created_at  item_name                                   \n",
       "2015-12-31  Bar soap, solid, SB                                33.17\n",
       "            Beer, domestic brand, single bottle, WKB           29.79\n",
       "            Black tea, BL                                      12.00\n",
       "            Black tea, in bags, WKB                            60.99\n",
       "            Bread, white, sliced, WKB                          85.45\n",
       "                                                              ...   \n",
       "2016-08-31  Wheat flour, not self-rising, BL                  150.38\n",
       "            White sugar, WKB                                  266.47\n",
       "            Women's haircut, basic hairdresser               7730.00\n",
       "            Wrist-watch, men's, CITIZEN Eco-Drive BM6060    52205.00\n",
       "            Yoghurt, plain, WKB                               150.96\n",
       "Name: price, Length: 1061, dtype: float64"
      ]
     },
     "execution_count": 19,
     "metadata": {},
     "output_type": "execute_result"
    }
   ],
   "source": [
    "data.groupby([pd.Grouper(key='created_at', freq='M'), 'item_name']).price.sum()"
   ]
  },
  {
   "cell_type": "code",
   "execution_count": null,
   "metadata": {},
   "outputs": [],
   "source": [
    "data.columns    #  (['item_name', 'item_code', 'created_at', 'size', 'quantity', 'price','store_type'] "
   ]
  },
  {
   "cell_type": "code",
   "execution_count": 26,
   "metadata": {},
   "outputs": [
    {
     "data": {
      "text/html": [
       "<div>\n",
       "<style scoped>\n",
       "    .dataframe tbody tr th:only-of-type {\n",
       "        vertical-align: middle;\n",
       "    }\n",
       "\n",
       "    .dataframe tbody tr th {\n",
       "        vertical-align: top;\n",
       "    }\n",
       "\n",
       "    .dataframe thead th {\n",
       "        text-align: right;\n",
       "    }\n",
       "</style>\n",
       "<table border=\"1\" class=\"dataframe\">\n",
       "  <thead>\n",
       "    <tr style=\"text-align: right;\">\n",
       "      <th></th>\n",
       "      <th></th>\n",
       "      <th>unique_items_n</th>\n",
       "      <th>unique_items_list</th>\n",
       "      <th>total_quantity</th>\n",
       "      <th>total_amount</th>\n",
       "    </tr>\n",
       "    <tr>\n",
       "      <th>created_at</th>\n",
       "      <th>store_type</th>\n",
       "      <th></th>\n",
       "      <th></th>\n",
       "      <th></th>\n",
       "      <th></th>\n",
       "    </tr>\n",
       "  </thead>\n",
       "  <tbody>\n",
       "    <tr>\n",
       "      <th rowspan=\"4\" valign=\"top\">2015-12-31</th>\n",
       "      <th>other</th>\n",
       "      <td>[One-bedroom apartment, 40-60 m2, Two-bedroom ...</td>\n",
       "      <td>[1104111110, 1104111113, 1104111102]</td>\n",
       "      <td>6</td>\n",
       "      <td>34300.00</td>\n",
       "    </tr>\n",
       "    <tr>\n",
       "      <th>public_semi_public_service</th>\n",
       "      <td>[Electricity: 600 kWh]</td>\n",
       "      <td>[110451101]</td>\n",
       "      <td>1</td>\n",
       "      <td>833.90</td>\n",
       "    </tr>\n",
       "    <tr>\n",
       "      <th>small_medium_shop</th>\n",
       "      <td>[Wheat flour, not self-rising, BL, Jam, strawb...</td>\n",
       "      <td>[110111202, 110118201, 111212111, 110121105, 1...</td>\n",
       "      <td>88</td>\n",
       "      <td>2484.23</td>\n",
       "    </tr>\n",
       "    <tr>\n",
       "      <th>specialized_shop</th>\n",
       "      <td>[Scooter, 50cc, WKB, Summer tire, R15, WKB]</td>\n",
       "      <td>[110712104, 110723103]</td>\n",
       "      <td>20</td>\n",
       "      <td>107086.00</td>\n",
       "    </tr>\n",
       "    <tr>\n",
       "      <th>2016-01-31</th>\n",
       "      <th>market</th>\n",
       "      <td>[Charcoal, sack, Tinned pineapple, whole slice...</td>\n",
       "      <td>[110453101, 110116201]</td>\n",
       "      <td>12</td>\n",
       "      <td>473.75</td>\n",
       "    </tr>\n",
       "  </tbody>\n",
       "</table>\n",
       "</div>"
      ],
      "text/plain": [
       "                                                                          unique_items_n                                  unique_items_list  total_quantity  total_amount\n",
       "created_at store_type                                                                                                                                                    \n",
       "2015-12-31 other                       [One-bedroom apartment, 40-60 m2, Two-bedroom ...               [1104111110, 1104111113, 1104111102]               6      34300.00\n",
       "           public_semi_public_service                             [Electricity: 600 kWh]                                        [110451101]               1        833.90\n",
       "           small_medium_shop           [Wheat flour, not self-rising, BL, Jam, strawb...  [110111202, 110118201, 111212111, 110121105, 1...              88       2484.23\n",
       "           specialized_shop                  [Scooter, 50cc, WKB, Summer tire, R15, WKB]                             [110712104, 110723103]              20     107086.00\n",
       "2016-01-31 market                      [Charcoal, sack, Tinned pineapple, whole slice...                             [110453101, 110116201]              12        473.75"
      ]
     },
     "execution_count": 26,
     "metadata": {},
     "output_type": "execute_result"
    }
   ],
   "source": [
    "data.groupby([pd.Grouper(key='created_at', freq='M'), 'store_type'])\\\n",
    "    .agg(unique_items_n =('item_name', 'unique'),\n",
    "         unique_items_list = ('item_code', 'unique'),\n",
    "         total_quantity=('quantity','sum'),\n",
    "         total_amount=('price','sum')).head(5)"
   ]
  }
 ],
 "metadata": {
  "kernelspec": {
   "display_name": "Python 3.9.12 ('base')",
   "language": "python",
   "name": "python3"
  },
  "language_info": {
   "codemirror_mode": {
    "name": "ipython",
    "version": 3
   },
   "file_extension": ".py",
   "mimetype": "text/x-python",
   "name": "python",
   "nbconvert_exporter": "python",
   "pygments_lexer": "ipython3",
   "version": "3.9.12"
  },
  "orig_nbformat": 4,
  "vscode": {
   "interpreter": {
    "hash": "8aaa3b4ebac2b51f8aa8e7aa23f601d6a09b21b29631d11e783a816b47f61422"
   }
  }
 },
 "nbformat": 4,
 "nbformat_minor": 2
}

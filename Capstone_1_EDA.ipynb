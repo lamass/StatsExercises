{
 "cells": [
  {
   "cell_type": "markdown",
   "metadata": {},
   "source": [
    "### DateTime Intervals, Aggregates ... "
   ]
  },
  {
   "cell_type": "code",
   "execution_count": 2,
   "metadata": {},
   "outputs": [],
   "source": [
    "# import Pandas version > 1.10.  locally: use base(python 3.9.12)\n",
    "import pandas as pd \n",
    "pd.set_option('expand_frame_repr', False)\n",
    "# pd.set_option('display.max_columns', 0) # Display any number of columns\n",
    "# pd.set_option('display.max_rows', 0) # Display any number of rows\n",
    "# set max columns to display\n",
    "pd.set_option('display.max_columns', 50)"
   ]
  },
  {
   "cell_type": "code",
   "execution_count": 3,
   "metadata": {},
   "outputs": [],
   "source": [
    "# importing data  \"C:\\\\August2022\\\\ES 12-22 Globex_2022_09_21.csv\"\n",
    "initial_data = pd.read_csv(\"C:\\\\August2022\\\\ES 12-22 Globex_2022_09_21.csv\", parse_dates=['DateTime'])"
   ]
  },
  {
   "cell_type": "code",
   "execution_count": 59,
   "metadata": {},
   "outputs": [
    {
     "data": {
      "text/html": [
       "<div>\n",
       "<style scoped>\n",
       "    .dataframe tbody tr th:only-of-type {\n",
       "        vertical-align: middle;\n",
       "    }\n",
       "\n",
       "    .dataframe tbody tr th {\n",
       "        vertical-align: top;\n",
       "    }\n",
       "\n",
       "    .dataframe thead th {\n",
       "        text-align: right;\n",
       "    }\n",
       "</style>\n",
       "<table border=\"1\" class=\"dataframe\">\n",
       "  <thead>\n",
       "    <tr style=\"text-align: right;\">\n",
       "      <th></th>\n",
       "      <th>DateTime</th>\n",
       "      <th>Vol</th>\n",
       "      <th>BidAsk</th>\n",
       "      <th>Bid</th>\n",
       "      <th>Ask</th>\n",
       "      <th>Price</th>\n",
       "    </tr>\n",
       "  </thead>\n",
       "  <tbody>\n",
       "    <tr>\n",
       "      <th>0</th>\n",
       "      <td>2022-09-21 00:00:00:720</td>\n",
       "      <td>1</td>\n",
       "      <td>AtBid</td>\n",
       "      <td>3879.50</td>\n",
       "      <td>3879.75</td>\n",
       "      <td>3879.50</td>\n",
       "    </tr>\n",
       "    <tr>\n",
       "      <th>1</th>\n",
       "      <td>2022-09-21 00:00:00:720</td>\n",
       "      <td>1</td>\n",
       "      <td>AtBid</td>\n",
       "      <td>3879.50</td>\n",
       "      <td>3879.75</td>\n",
       "      <td>3879.50</td>\n",
       "    </tr>\n",
       "    <tr>\n",
       "      <th>2</th>\n",
       "      <td>2022-09-21 00:00:00:900</td>\n",
       "      <td>1</td>\n",
       "      <td>AtAsk</td>\n",
       "      <td>3879.25</td>\n",
       "      <td>3879.75</td>\n",
       "      <td>3879.75</td>\n",
       "    </tr>\n",
       "    <tr>\n",
       "      <th>3</th>\n",
       "      <td>2022-09-21 00:00:00:900</td>\n",
       "      <td>1</td>\n",
       "      <td>AtAsk</td>\n",
       "      <td>3879.25</td>\n",
       "      <td>3879.75</td>\n",
       "      <td>3879.75</td>\n",
       "    </tr>\n",
       "    <tr>\n",
       "      <th>4</th>\n",
       "      <td>2022-09-21 00:00:00:900</td>\n",
       "      <td>1</td>\n",
       "      <td>AtAsk</td>\n",
       "      <td>3879.25</td>\n",
       "      <td>3879.75</td>\n",
       "      <td>3879.75</td>\n",
       "    </tr>\n",
       "  </tbody>\n",
       "</table>\n",
       "</div>"
      ],
      "text/plain": [
       "                  DateTime  Vol  BidAsk      Bid      Ask   Price \n",
       "0  2022-09-21 00:00:00:720    1   AtBid  3879.50  3879.75  3879.50\n",
       "1  2022-09-21 00:00:00:720    1   AtBid  3879.50  3879.75  3879.50\n",
       "2  2022-09-21 00:00:00:900    1   AtAsk  3879.25  3879.75  3879.75\n",
       "3  2022-09-21 00:00:00:900    1   AtAsk  3879.25  3879.75  3879.75\n",
       "4  2022-09-21 00:00:00:900    1   AtAsk  3879.25  3879.75  3879.75"
      ]
     },
     "execution_count": 59,
     "metadata": {},
     "output_type": "execute_result"
    }
   ],
   "source": [
    "initial_data.head()"
   ]
  },
  {
   "cell_type": "code",
   "execution_count": null,
   "metadata": {},
   "outputs": [],
   "source": [
    "initial_data.shape # (1742042, 6)"
   ]
  },
  {
   "cell_type": "code",
   "execution_count": 57,
   "metadata": {},
   "outputs": [
    {
     "data": {
      "text/plain": [
       "Index(['DateTime', 'Vol', ' BidAsk', ' Bid', ' Ask', ' Price '], dtype='object')"
      ]
     },
     "execution_count": 57,
     "metadata": {},
     "output_type": "execute_result"
    }
   ],
   "source": [
    "initial_data.columns"
   ]
  },
  {
   "cell_type": "code",
   "execution_count": 12,
   "metadata": {},
   "outputs": [
    {
     "data": {
      "text/plain": [
       "array(['AtBid', 'AtAsk', 'BelowBid', 'AboveAsk', 'BetweenBidAsk'],\n",
       "      dtype=object)"
      ]
     },
     "execution_count": 12,
     "metadata": {},
     "output_type": "execute_result"
    }
   ],
   "source": [
    "initial_data[' BidAsk'].unique()"
   ]
  },
  {
   "cell_type": "code",
   "execution_count": 60,
   "metadata": {},
   "outputs": [
    {
     "data": {
      "text/plain": [
       "Index(['DateTime', 'Vol', 'BidAsk', 'Bid', 'Ask', 'Price'], dtype='object')"
      ]
     },
     "execution_count": 60,
     "metadata": {},
     "output_type": "execute_result"
    }
   ],
   "source": [
    "map_BA = {'AtBid': -1, 'BelowBid': -2, 'AtAsk':1, 'AboveAsk': 2, 'BetweenBidAsk': 0}\n",
    "df = initial_data.replace({' BidAsk': map_BA}) \n",
    "df.sample(3)\n",
    "cols = {' BidAsk': 'BidAsk', ' Bid': 'Bid', ' Ask':'Ask', ' Price ': 'Price'}  # strip the space from columns and rename\n",
    "df.rename(columns=cols, inplace=True)\n",
    "df.columns"
   ]
  },
  {
   "cell_type": "code",
   "execution_count": 61,
   "metadata": {},
   "outputs": [
    {
     "data": {
      "text/plain": [
       "DateTime     object\n",
       "Vol           int64\n",
       "BidAsk        int64\n",
       "Bid         float64\n",
       "Ask         float64\n",
       "Price       float64\n",
       "dtype: object"
      ]
     },
     "execution_count": 61,
     "metadata": {},
     "output_type": "execute_result"
    }
   ],
   "source": [
    "df.dtypes"
   ]
  },
  {
   "cell_type": "markdown",
   "metadata": {},
   "source": [
    "## Aggregating data based on Intervals  Hour, Month, Offset...    \n",
    "- Combining data based on different Time Intervals."
   ]
  },
  {
   "cell_type": "code",
   "execution_count": 92,
   "metadata": {},
   "outputs": [],
   "source": [
    "df1 = df.copy()   #DateTime.head().dtypes"
   ]
  },
  {
   "cell_type": "code",
   "execution_count": 93,
   "metadata": {},
   "outputs": [
    {
     "data": {
      "text/html": [
       "<div>\n",
       "<style scoped>\n",
       "    .dataframe tbody tr th:only-of-type {\n",
       "        vertical-align: middle;\n",
       "    }\n",
       "\n",
       "    .dataframe tbody tr th {\n",
       "        vertical-align: top;\n",
       "    }\n",
       "\n",
       "    .dataframe thead th {\n",
       "        text-align: right;\n",
       "    }\n",
       "</style>\n",
       "<table border=\"1\" class=\"dataframe\">\n",
       "  <thead>\n",
       "    <tr style=\"text-align: right;\">\n",
       "      <th></th>\n",
       "      <th>DateTime</th>\n",
       "      <th>Vol</th>\n",
       "      <th>BidAsk</th>\n",
       "      <th>Bid</th>\n",
       "      <th>Ask</th>\n",
       "      <th>Price</th>\n",
       "    </tr>\n",
       "  </thead>\n",
       "  <tbody>\n",
       "    <tr>\n",
       "      <th>0</th>\n",
       "      <td>2022-09-21 00:00:00:720</td>\n",
       "      <td>1</td>\n",
       "      <td>-1</td>\n",
       "      <td>3879.50</td>\n",
       "      <td>3879.75</td>\n",
       "      <td>3879.50</td>\n",
       "    </tr>\n",
       "    <tr>\n",
       "      <th>1</th>\n",
       "      <td>2022-09-21 00:00:00:720</td>\n",
       "      <td>1</td>\n",
       "      <td>-1</td>\n",
       "      <td>3879.50</td>\n",
       "      <td>3879.75</td>\n",
       "      <td>3879.50</td>\n",
       "    </tr>\n",
       "    <tr>\n",
       "      <th>2</th>\n",
       "      <td>2022-09-21 00:00:00:900</td>\n",
       "      <td>1</td>\n",
       "      <td>1</td>\n",
       "      <td>3879.25</td>\n",
       "      <td>3879.75</td>\n",
       "      <td>3879.75</td>\n",
       "    </tr>\n",
       "    <tr>\n",
       "      <th>3</th>\n",
       "      <td>2022-09-21 00:00:00:900</td>\n",
       "      <td>1</td>\n",
       "      <td>1</td>\n",
       "      <td>3879.25</td>\n",
       "      <td>3879.75</td>\n",
       "      <td>3879.75</td>\n",
       "    </tr>\n",
       "    <tr>\n",
       "      <th>4</th>\n",
       "      <td>2022-09-21 00:00:00:900</td>\n",
       "      <td>1</td>\n",
       "      <td>1</td>\n",
       "      <td>3879.25</td>\n",
       "      <td>3879.75</td>\n",
       "      <td>3879.75</td>\n",
       "    </tr>\n",
       "  </tbody>\n",
       "</table>\n",
       "</div>"
      ],
      "text/plain": [
       "                  DateTime  Vol  BidAsk      Bid      Ask    Price\n",
       "0  2022-09-21 00:00:00:720    1      -1  3879.50  3879.75  3879.50\n",
       "1  2022-09-21 00:00:00:720    1      -1  3879.50  3879.75  3879.50\n",
       "2  2022-09-21 00:00:00:900    1       1  3879.25  3879.75  3879.75\n",
       "3  2022-09-21 00:00:00:900    1       1  3879.25  3879.75  3879.75\n",
       "4  2022-09-21 00:00:00:900    1       1  3879.25  3879.75  3879.75"
      ]
     },
     "execution_count": 93,
     "metadata": {},
     "output_type": "execute_result"
    }
   ],
   "source": [
    "df1.head()"
   ]
  },
  {
   "cell_type": "code",
   "execution_count": 94,
   "metadata": {},
   "outputs": [],
   "source": [
    "df1['DateTime'] = pd.to_datetime(df1['DateTime'].str.strip(), format=\"%Y-%m-%d %H:%M:%S:%f\")"
   ]
  },
  {
   "cell_type": "code",
   "execution_count": 98,
   "metadata": {},
   "outputs": [
    {
     "data": {
      "text/plain": [
       "Index(['DateTime', 'Vol', 'BidAsk', 'Bid', 'Ask', 'Price'], dtype='object')"
      ]
     },
     "execution_count": 98,
     "metadata": {},
     "output_type": "execute_result"
    }
   ],
   "source": [
    "df1.dtypes\n",
    "df1.columns"
   ]
  },
  {
   "cell_type": "markdown",
   "metadata": {},
   "source": [
    "#### Creating Derivative Features"
   ]
  },
  {
   "cell_type": "code",
   "execution_count": 113,
   "metadata": {},
   "outputs": [],
   "source": [
    "# Volume added in each hour   \n",
    "hr_Vol = df1.resample('H', on='DateTime').Vol.sum()   #  1st derivative feature of Volume per hour"
   ]
  },
  {
   "cell_type": "code",
   "execution_count": 114,
   "metadata": {},
   "outputs": [
    {
     "data": {
      "text/plain": [
       "DateTime\n",
       "2022-09-21 00:00:00     3092\n",
       "2022-09-21 01:00:00    14471\n",
       "2022-09-21 02:00:00    42328\n",
       "2022-09-21 03:00:00    31893\n",
       "2022-09-21 04:00:00    18994\n",
       "Freq: H, Name: Vol, dtype: int64"
      ]
     },
     "execution_count": 114,
     "metadata": {},
     "output_type": "execute_result"
    }
   ],
   "source": [
    "hr_Vol.head()    #  1st derivative feature of Volume per hour"
   ]
  },
  {
   "cell_type": "code",
   "execution_count": 143,
   "metadata": {},
   "outputs": [],
   "source": [
    "hr_Vol_BA_sum = df1.resample('H', on='DateTime').agg({'Vol':'sum', 'BidAsk':'sum'})"
   ]
  },
  {
   "cell_type": "code",
   "execution_count": 144,
   "metadata": {},
   "outputs": [],
   "source": [
    "hr_Vol_BA_mean = df1.resample('H', on='DateTime').agg({'Vol':'sum', 'BidAsk':'mean'})"
   ]
  },
  {
   "cell_type": "code",
   "execution_count": 145,
   "metadata": {},
   "outputs": [
    {
     "data": {
      "text/html": [
       "<div>\n",
       "<style scoped>\n",
       "    .dataframe tbody tr th:only-of-type {\n",
       "        vertical-align: middle;\n",
       "    }\n",
       "\n",
       "    .dataframe tbody tr th {\n",
       "        vertical-align: top;\n",
       "    }\n",
       "\n",
       "    .dataframe thead th {\n",
       "        text-align: right;\n",
       "    }\n",
       "</style>\n",
       "<table border=\"1\" class=\"dataframe\">\n",
       "  <thead>\n",
       "    <tr style=\"text-align: right;\">\n",
       "      <th></th>\n",
       "      <th>Vol</th>\n",
       "      <th>BidAsk</th>\n",
       "    </tr>\n",
       "    <tr>\n",
       "      <th>DateTime</th>\n",
       "      <th></th>\n",
       "      <th></th>\n",
       "    </tr>\n",
       "  </thead>\n",
       "  <tbody>\n",
       "    <tr>\n",
       "      <th>2022-09-21 00:00:00</th>\n",
       "      <td>3092</td>\n",
       "      <td>-0.045310</td>\n",
       "    </tr>\n",
       "    <tr>\n",
       "      <th>2022-09-21 01:00:00</th>\n",
       "      <td>14471</td>\n",
       "      <td>-0.151301</td>\n",
       "    </tr>\n",
       "    <tr>\n",
       "      <th>2022-09-21 02:00:00</th>\n",
       "      <td>42328</td>\n",
       "      <td>-0.066566</td>\n",
       "    </tr>\n",
       "    <tr>\n",
       "      <th>2022-09-21 03:00:00</th>\n",
       "      <td>31893</td>\n",
       "      <td>-0.030371</td>\n",
       "    </tr>\n",
       "    <tr>\n",
       "      <th>2022-09-21 04:00:00</th>\n",
       "      <td>18994</td>\n",
       "      <td>0.002385</td>\n",
       "    </tr>\n",
       "  </tbody>\n",
       "</table>\n",
       "</div>"
      ],
      "text/plain": [
       "                       Vol    BidAsk\n",
       "DateTime                            \n",
       "2022-09-21 00:00:00   3092 -0.045310\n",
       "2022-09-21 01:00:00  14471 -0.151301\n",
       "2022-09-21 02:00:00  42328 -0.066566\n",
       "2022-09-21 03:00:00  31893 -0.030371\n",
       "2022-09-21 04:00:00  18994  0.002385"
      ]
     },
     "execution_count": 145,
     "metadata": {},
     "output_type": "execute_result"
    }
   ],
   "source": [
    "hr_Vol_BA_mean.head()          #  2st derivative feature of Volume per hour with BidAsk mean"
   ]
  },
  {
   "cell_type": "code",
   "execution_count": 147,
   "metadata": {},
   "outputs": [
    {
     "data": {
      "text/html": [
       "<div>\n",
       "<style scoped>\n",
       "    .dataframe tbody tr th:only-of-type {\n",
       "        vertical-align: middle;\n",
       "    }\n",
       "\n",
       "    .dataframe tbody tr th {\n",
       "        vertical-align: top;\n",
       "    }\n",
       "\n",
       "    .dataframe thead th {\n",
       "        text-align: right;\n",
       "    }\n",
       "</style>\n",
       "<table border=\"1\" class=\"dataframe\">\n",
       "  <thead>\n",
       "    <tr style=\"text-align: right;\">\n",
       "      <th></th>\n",
       "      <th>Vol</th>\n",
       "      <th>BidAsk</th>\n",
       "    </tr>\n",
       "    <tr>\n",
       "      <th>DateTime</th>\n",
       "      <th></th>\n",
       "      <th></th>\n",
       "    </tr>\n",
       "  </thead>\n",
       "  <tbody>\n",
       "    <tr>\n",
       "      <th>2022-09-21 00:00:00</th>\n",
       "      <td>3092</td>\n",
       "      <td>-114</td>\n",
       "    </tr>\n",
       "    <tr>\n",
       "      <th>2022-09-21 01:00:00</th>\n",
       "      <td>14471</td>\n",
       "      <td>-1715</td>\n",
       "    </tr>\n",
       "    <tr>\n",
       "      <th>2022-09-21 02:00:00</th>\n",
       "      <td>42328</td>\n",
       "      <td>-2372</td>\n",
       "    </tr>\n",
       "    <tr>\n",
       "      <th>2022-09-21 03:00:00</th>\n",
       "      <td>31893</td>\n",
       "      <td>-794</td>\n",
       "    </tr>\n",
       "    <tr>\n",
       "      <th>2022-09-21 04:00:00</th>\n",
       "      <td>18994</td>\n",
       "      <td>36</td>\n",
       "    </tr>\n",
       "  </tbody>\n",
       "</table>\n",
       "</div>"
      ],
      "text/plain": [
       "                       Vol  BidAsk\n",
       "DateTime                          \n",
       "2022-09-21 00:00:00   3092    -114\n",
       "2022-09-21 01:00:00  14471   -1715\n",
       "2022-09-21 02:00:00  42328   -2372\n",
       "2022-09-21 03:00:00  31893    -794\n",
       "2022-09-21 04:00:00  18994      36"
      ]
     },
     "execution_count": 147,
     "metadata": {},
     "output_type": "execute_result"
    }
   ],
   "source": [
    "hr_Vol_BA_sum.shape  #   (17, 2)\n",
    "hr_Vol_BA_sum.head()          #  3th derivative feature of Volume per hour with BidAsk sum"
   ]
  },
  {
   "cell_type": "code",
   "execution_count": 158,
   "metadata": {},
   "outputs": [],
   "source": [
    "group_1 = df1.groupby([pd.Grouper(key='DateTime', freq='H'), 'BidAsk']).Vol.sum()   "
   ]
  },
  {
   "cell_type": "code",
   "execution_count": null,
   "metadata": {},
   "outputs": [],
   "source": [
    "group_1.shape  # (69,)\n",
    "group_1.head(44)  #  grouped per Hr of BidAsk and Volume sum "
   ]
  },
  {
   "cell_type": "code",
   "execution_count": 162,
   "metadata": {},
   "outputs": [],
   "source": [
    "# sec_30 = df1.resample('30S', ).ffill()[0:5] \n",
    "sec_30 = df1.resample('30S', on='DateTime').agg({'Vol':'sum', 'BidAsk':'mean'})"
   ]
  },
  {
   "cell_type": "code",
   "execution_count": 176,
   "metadata": {},
   "outputs": [
    {
     "data": {
      "text/html": [
       "<div>\n",
       "<style scoped>\n",
       "    .dataframe tbody tr th:only-of-type {\n",
       "        vertical-align: middle;\n",
       "    }\n",
       "\n",
       "    .dataframe tbody tr th {\n",
       "        vertical-align: top;\n",
       "    }\n",
       "\n",
       "    .dataframe thead th {\n",
       "        text-align: right;\n",
       "    }\n",
       "</style>\n",
       "<table border=\"1\" class=\"dataframe\">\n",
       "  <thead>\n",
       "    <tr style=\"text-align: right;\">\n",
       "      <th></th>\n",
       "      <th>Vol</th>\n",
       "      <th>BidAsk</th>\n",
       "    </tr>\n",
       "    <tr>\n",
       "      <th>DateTime</th>\n",
       "      <th></th>\n",
       "      <th></th>\n",
       "    </tr>\n",
       "  </thead>\n",
       "  <tbody>\n",
       "    <tr>\n",
       "      <th>2022-09-21 14:35:00</th>\n",
       "      <td>10318</td>\n",
       "      <td>-0.031703</td>\n",
       "    </tr>\n",
       "    <tr>\n",
       "      <th>2022-09-21 01:12:30</th>\n",
       "      <td>6</td>\n",
       "      <td>-0.333333</td>\n",
       "    </tr>\n",
       "    <tr>\n",
       "      <th>2022-09-21 10:05:00</th>\n",
       "      <td>2353</td>\n",
       "      <td>0.034254</td>\n",
       "    </tr>\n",
       "    <tr>\n",
       "      <th>2022-09-21 03:43:30</th>\n",
       "      <td>100</td>\n",
       "      <td>-0.098901</td>\n",
       "    </tr>\n",
       "    <tr>\n",
       "      <th>2022-09-21 12:04:30</th>\n",
       "      <td>530</td>\n",
       "      <td>0.028947</td>\n",
       "    </tr>\n",
       "  </tbody>\n",
       "</table>\n",
       "</div>"
      ],
      "text/plain": [
       "                       Vol    BidAsk\n",
       "DateTime                            \n",
       "2022-09-21 14:35:00  10318 -0.031703\n",
       "2022-09-21 01:12:30      6 -0.333333\n",
       "2022-09-21 10:05:00   2353  0.034254\n",
       "2022-09-21 03:43:30    100 -0.098901\n",
       "2022-09-21 12:04:30    530  0.028947"
      ]
     },
     "execution_count": 176,
     "metadata": {},
     "output_type": "execute_result"
    }
   ],
   "source": [
    "sec_30.shape  #  (2040, 2)\n",
    "sec_30.sample(5)"
   ]
  },
  {
   "cell_type": "code",
   "execution_count": 181,
   "metadata": {},
   "outputs": [],
   "source": [
    "sec_1 = df1.resample('S', on='DateTime').agg({'Vol':'sum', 'BidAsk':'mean'})"
   ]
  },
  {
   "cell_type": "code",
   "execution_count": 197,
   "metadata": {},
   "outputs": [
    {
     "data": {
      "text/html": [
       "<div>\n",
       "<style scoped>\n",
       "    .dataframe tbody tr th:only-of-type {\n",
       "        vertical-align: middle;\n",
       "    }\n",
       "\n",
       "    .dataframe tbody tr th {\n",
       "        vertical-align: top;\n",
       "    }\n",
       "\n",
       "    .dataframe thead th {\n",
       "        text-align: right;\n",
       "    }\n",
       "</style>\n",
       "<table border=\"1\" class=\"dataframe\">\n",
       "  <thead>\n",
       "    <tr style=\"text-align: right;\">\n",
       "      <th></th>\n",
       "      <th>Vol</th>\n",
       "      <th>BidAsk</th>\n",
       "    </tr>\n",
       "    <tr>\n",
       "      <th>DateTime</th>\n",
       "      <th></th>\n",
       "      <th></th>\n",
       "    </tr>\n",
       "  </thead>\n",
       "  <tbody>\n",
       "    <tr>\n",
       "      <th>2022-09-21 00:00:00</th>\n",
       "      <td>6</td>\n",
       "      <td>0.333333</td>\n",
       "    </tr>\n",
       "    <tr>\n",
       "      <th>2022-09-21 00:00:03</th>\n",
       "      <td>2</td>\n",
       "      <td>-1.000000</td>\n",
       "    </tr>\n",
       "    <tr>\n",
       "      <th>2022-09-21 00:00:07</th>\n",
       "      <td>1</td>\n",
       "      <td>1.000000</td>\n",
       "    </tr>\n",
       "    <tr>\n",
       "      <th>2022-09-21 00:00:12</th>\n",
       "      <td>8</td>\n",
       "      <td>-0.500000</td>\n",
       "    </tr>\n",
       "    <tr>\n",
       "      <th>2022-09-21 00:00:13</th>\n",
       "      <td>4</td>\n",
       "      <td>-1.000000</td>\n",
       "    </tr>\n",
       "  </tbody>\n",
       "</table>\n",
       "</div>"
      ],
      "text/plain": [
       "                     Vol    BidAsk\n",
       "DateTime                          \n",
       "2022-09-21 00:00:00    6  0.333333\n",
       "2022-09-21 00:00:03    2 -1.000000\n",
       "2022-09-21 00:00:07    1  1.000000\n",
       "2022-09-21 00:00:12    8 -0.500000\n",
       "2022-09-21 00:00:13    4 -1.000000"
      ]
     },
     "execution_count": 197,
     "metadata": {},
     "output_type": "execute_result"
    }
   ],
   "source": [
    "sec_1.shape  # (61200, 2)\n",
    "sec_1.dropna(axis=0, inplace=True)\n",
    "sec_1.shape   #  (41508, 2)\n",
    "sec_1.head()"
   ]
  },
  {
   "cell_type": "code",
   "execution_count": 219,
   "metadata": {},
   "outputs": [],
   "source": [
    "merged_1 = df1.merge(sec_1, on='DateTime', how='left')"
   ]
  },
  {
   "cell_type": "code",
   "execution_count": 220,
   "metadata": {},
   "outputs": [
    {
     "data": {
      "text/plain": [
       "(1742042, 8)"
      ]
     },
     "execution_count": 220,
     "metadata": {},
     "output_type": "execute_result"
    }
   ],
   "source": [
    "merged_1.shape   # (1742042, 8)"
   ]
  },
  {
   "cell_type": "code",
   "execution_count": 216,
   "metadata": {},
   "outputs": [
    {
     "data": {
      "text/plain": [
       "(46839, 8)"
      ]
     },
     "execution_count": 216,
     "metadata": {},
     "output_type": "execute_result"
    }
   ],
   "source": [
    "merged_1.shape  #   (46839, 8)   right merge"
   ]
  },
  {
   "cell_type": "code",
   "execution_count": 218,
   "metadata": {},
   "outputs": [
    {
     "data": {
      "text/plain": [
       "(1742042, 6)"
      ]
     },
     "execution_count": 218,
     "metadata": {},
     "output_type": "execute_result"
    }
   ],
   "source": [
    "df1.shape   # right merge"
   ]
  },
  {
   "cell_type": "code",
   "execution_count": 221,
   "metadata": {},
   "outputs": [
    {
     "data": {
      "text/html": [
       "<div>\n",
       "<style scoped>\n",
       "    .dataframe tbody tr th:only-of-type {\n",
       "        vertical-align: middle;\n",
       "    }\n",
       "\n",
       "    .dataframe tbody tr th {\n",
       "        vertical-align: top;\n",
       "    }\n",
       "\n",
       "    .dataframe thead th {\n",
       "        text-align: right;\n",
       "    }\n",
       "</style>\n",
       "<table border=\"1\" class=\"dataframe\">\n",
       "  <thead>\n",
       "    <tr style=\"text-align: right;\">\n",
       "      <th></th>\n",
       "      <th>DateTime</th>\n",
       "      <th>Vol_x</th>\n",
       "      <th>BidAsk_x</th>\n",
       "      <th>Bid</th>\n",
       "      <th>Ask</th>\n",
       "      <th>Price</th>\n",
       "      <th>Vol_y</th>\n",
       "      <th>BidAsk_y</th>\n",
       "    </tr>\n",
       "  </thead>\n",
       "  <tbody>\n",
       "    <tr>\n",
       "      <th>604850</th>\n",
       "      <td>2022-09-21 13:03:21.820</td>\n",
       "      <td>1</td>\n",
       "      <td>-2</td>\n",
       "      <td>3890.75</td>\n",
       "      <td>3891.25</td>\n",
       "      <td>3890.75</td>\n",
       "      <td>NaN</td>\n",
       "      <td>NaN</td>\n",
       "    </tr>\n",
       "    <tr>\n",
       "      <th>1517738</th>\n",
       "      <td>2022-09-21 15:36:59.472</td>\n",
       "      <td>1</td>\n",
       "      <td>1</td>\n",
       "      <td>3841.00</td>\n",
       "      <td>3841.25</td>\n",
       "      <td>3841.25</td>\n",
       "      <td>NaN</td>\n",
       "      <td>NaN</td>\n",
       "    </tr>\n",
       "    <tr>\n",
       "      <th>1025926</th>\n",
       "      <td>2022-09-21 14:36:54.720</td>\n",
       "      <td>1</td>\n",
       "      <td>-1</td>\n",
       "      <td>3878.00</td>\n",
       "      <td>3878.25</td>\n",
       "      <td>3878.00</td>\n",
       "      <td>NaN</td>\n",
       "      <td>NaN</td>\n",
       "    </tr>\n",
       "    <tr>\n",
       "      <th>451104</th>\n",
       "      <td>2022-09-21 11:00:56.748</td>\n",
       "      <td>2</td>\n",
       "      <td>-1</td>\n",
       "      <td>3891.25</td>\n",
       "      <td>3891.50</td>\n",
       "      <td>3891.25</td>\n",
       "      <td>NaN</td>\n",
       "      <td>NaN</td>\n",
       "    </tr>\n",
       "    <tr>\n",
       "      <th>1375990</th>\n",
       "      <td>2022-09-21 15:15:59.444</td>\n",
       "      <td>1</td>\n",
       "      <td>-1</td>\n",
       "      <td>3891.50</td>\n",
       "      <td>3891.75</td>\n",
       "      <td>3891.50</td>\n",
       "      <td>NaN</td>\n",
       "      <td>NaN</td>\n",
       "    </tr>\n",
       "  </tbody>\n",
       "</table>\n",
       "</div>"
      ],
      "text/plain": [
       "                       DateTime  Vol_x  BidAsk_x      Bid      Ask    Price  Vol_y  BidAsk_y\n",
       "604850  2022-09-21 13:03:21.820      1        -2  3890.75  3891.25  3890.75    NaN       NaN\n",
       "1517738 2022-09-21 15:36:59.472      1         1  3841.00  3841.25  3841.25    NaN       NaN\n",
       "1025926 2022-09-21 14:36:54.720      1        -1  3878.00  3878.25  3878.00    NaN       NaN\n",
       "451104  2022-09-21 11:00:56.748      2        -1  3891.25  3891.50  3891.25    NaN       NaN\n",
       "1375990 2022-09-21 15:15:59.444      1        -1  3891.50  3891.75  3891.50    NaN       NaN"
      ]
     },
     "execution_count": 221,
     "metadata": {},
     "output_type": "execute_result"
    }
   ],
   "source": [
    "merged_1.shape  #  (6747, 8)\n",
    "merged_1.sample(5)"
   ]
  },
  {
   "cell_type": "code",
   "execution_count": null,
   "metadata": {},
   "outputs": [],
   "source": [
    "sec_1.plot.line(y=\"Close\", use_index=True)"
   ]
  },
  {
   "cell_type": "code",
   "execution_count": 7,
   "metadata": {},
   "outputs": [
    {
     "data": {
      "text/plain": [
       "created_at\n",
       "2015-12-14 17:45:00    5449.90\n",
       "2015-12-14 18:45:00       0.00\n",
       "2015-12-14 19:45:00      74.76\n",
       "2015-12-14 20:45:00       8.20\n",
       "2015-12-14 21:45:00       0.00\n",
       "Freq: H, Name: price, dtype: float64"
      ]
     },
     "execution_count": 7,
     "metadata": {},
     "output_type": "execute_result"
    }
   ],
   "source": [
    "# Changing start time for each hour, by default start time is at 0th minute\n",
    "# data.resample('H', on='created_at', offset='15Min10s').price.sum().head(5) \n",
    "data.resample('H', on='created_at', offset='-15Min0s').price.sum().head(5)  #  offset can be negative  offset='-15Min10s'"
   ]
  }
 ],
 "metadata": {
  "kernelspec": {
   "display_name": "Python 3.9.12 ('base')",
   "language": "python",
   "name": "python3"
  },
  "language_info": {
   "codemirror_mode": {
    "name": "ipython",
    "version": 3
   },
   "file_extension": ".py",
   "mimetype": "text/x-python",
   "name": "python",
   "nbconvert_exporter": "python",
   "pygments_lexer": "ipython3",
   "version": "3.9.12"
  },
  "orig_nbformat": 4,
  "vscode": {
   "interpreter": {
    "hash": "8aaa3b4ebac2b51f8aa8e7aa23f601d6a09b21b29631d11e783a816b47f61422"
   }
  }
 },
 "nbformat": 4,
 "nbformat_minor": 2
}
